{
 "cells": [
  {
   "cell_type": "code",
   "execution_count": 1,
   "metadata": {},
   "outputs": [],
   "source": [
    "from faker import Faker\n",
    "import faker.providers as providers\n",
    "fake = Faker()"
   ]
  },
  {
   "attachments": {},
   "cell_type": "markdown",
   "metadata": {},
   "source": [
    "#### generate credit_limit or bank_balance"
   ]
  },
  {
   "cell_type": "code",
   "execution_count": 3,
   "metadata": {},
   "outputs": [
    {
     "data": {
      "text/plain": [
       "8500"
      ]
     },
     "execution_count": 3,
     "metadata": {},
     "output_type": "execute_result"
    }
   ],
   "source": [
    "fake.random_int(min=1000, max=15000, step=100)"
   ]
  },
  {
   "cell_type": "code",
   "execution_count": 3,
   "metadata": {},
   "outputs": [
    {
     "data": {
      "text/plain": [
       "'brian78@example.net'"
      ]
     },
     "execution_count": 3,
     "metadata": {},
     "output_type": "execute_result"
    }
   ],
   "source": [
    "fake.password()"
   ]
  },
  {
   "attachments": {},
   "cell_type": "markdown",
   "metadata": {},
   "source": [
    "#### name and mobile number and email and address"
   ]
  },
  {
   "cell_type": "code",
   "execution_count": 28,
   "metadata": {},
   "outputs": [
    {
     "name": "stdout",
     "output_type": "stream",
     "text": [
      "{'username': 'taylor30', 'name': 'Hunter Harper', 'sex': 'M', 'address': '184 Richard Square Apt. 319\\nPort Colin, UT 10026', 'mail': 'hunterdawn@hotmail.com', 'birthdate': datetime.date(2010, 4, 5)}\n",
      "370 Kevin Crest Apt. 090\n",
      "Stewartbury\n",
      "SC\n",
      "70543\n",
      "Valerie Haynes\n"
     ]
    }
   ],
   "source": [
    "# fake.add_provider(providers.address)\n",
    "\n",
    "fake.add_provider(providers.profile)\n",
    "print(fake.simple_profile()) # username, email, address\n",
    "address = fake.simple_profile()[\"address\"]\n",
    "print(address.split(\"\\n\")[0]) # street address\n",
    "print(address.split(\"\\n\")[1].split(',')[0]) # city\n",
    "print(address.split(\"\\n\")[1].split(',')[1].strip().split()[0]) # state\n",
    "print(address.split(\"\\n\")[1].split(',')[1].strip().split()[1]) # zipcode\n",
    "\n",
    "fake.add_provider(providers.person)\n",
    "print(fake.first_name(), fake.last_name()) # name\n",
    "# print(f\"{fake.first_name().lower()}.{fake.last_name().lower()}\") # username\n"
   ]
  },
  {
   "attachments": {},
   "cell_type": "markdown",
   "metadata": {},
   "source": [
    "#### phone number"
   ]
  },
  {
   "cell_type": "code",
   "execution_count": 27,
   "metadata": {},
   "outputs": [
    {
     "data": {
      "text/plain": [
       "'9258692172'"
      ]
     },
     "execution_count": 27,
     "metadata": {},
     "output_type": "execute_result"
    }
   ],
   "source": [
    "import random as r\n",
    "  \n",
    "ph_no = []\n",
    "  \n",
    "# the first number should be in the range of 6 to 9\n",
    "ph_no.append(r.randint(6, 9))\n",
    "  \n",
    "# the for loop is used to append the other 9 numbers.\n",
    "# the other 9 numbers can be in the range of 0 to 9.\n",
    "for i in range(1, 10):\n",
    "    ph_no.append(r.randint(0, 9))\n",
    "\n",
    "''.join(map(str,ph_no))"
   ]
  },
  {
   "attachments": {},
   "cell_type": "markdown",
   "metadata": {},
   "source": [
    "#### debit, credit card and bank account"
   ]
  },
  {
   "cell_type": "code",
   "execution_count": 41,
   "metadata": {},
   "outputs": [
    {
     "name": "stdout",
     "output_type": "stream",
     "text": [
      "4570081784788624\n",
      "Discover\n",
      "587\n",
      "11/24\n",
      "BLPR09404738025579\n",
      "118110918\n"
     ]
    }
   ],
   "source": [
    "# debit/credit cards\n",
    "fake.add_provider(providers.credit_card)\n",
    "print(fake.credit_card_number())\n",
    "print(fake.credit_card_provider()) # provider and also bank name\n",
    "print(fake.credit_card_security_code())\n",
    "print(fake.credit_card_expire())\n",
    "\n",
    "# bank\n",
    "fake.add_provider(providers.bank)\n",
    "print(fake.bban()) # account number\n",
    "print(fake.aba()) # routing number"
   ]
  },
  {
   "cell_type": "code",
   "execution_count": null,
   "metadata": {},
   "outputs": [],
   "source": []
  }
 ],
 "metadata": {
  "kernelspec": {
   "display_name": ".venv",
   "language": "python",
   "name": "python3"
  },
  "language_info": {
   "codemirror_mode": {
    "name": "ipython",
    "version": 3
   },
   "file_extension": ".py",
   "mimetype": "text/x-python",
   "name": "python",
   "nbconvert_exporter": "python",
   "pygments_lexer": "ipython3",
   "version": "3.9.6"
  },
  "orig_nbformat": 4
 },
 "nbformat": 4,
 "nbformat_minor": 2
}
